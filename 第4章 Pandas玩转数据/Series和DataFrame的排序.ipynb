{
 "cells": [
  {
   "cell_type": "code",
   "execution_count": 1,
   "metadata": {},
   "outputs": [],
   "source": [
    "import numpy as np\n",
    "import pandas as pd\n",
    "from pandas import Series, DataFrame"
   ]
  },
  {
   "cell_type": "markdown",
   "metadata": {},
   "source": [
    "# Series的排序"
   ]
  },
  {
   "cell_type": "code",
   "execution_count": 2,
   "metadata": {},
   "outputs": [],
   "source": [
    "s1 = Series(np.random.randn(10))"
   ]
  },
  {
   "cell_type": "code",
   "execution_count": 3,
   "metadata": {},
   "outputs": [
    {
     "data": {
      "text/plain": [
       "0    0.145017\n",
       "1    0.182858\n",
       "2   -0.649468\n",
       "3   -0.165391\n",
       "4    1.355672\n",
       "5    1.333846\n",
       "6    0.342386\n",
       "7   -0.787904\n",
       "8    0.732089\n",
       "9   -0.595397\n",
       "dtype: float64"
      ]
     },
     "execution_count": 3,
     "metadata": {},
     "output_type": "execute_result"
    }
   ],
   "source": [
    "s1"
   ]
  },
  {
   "cell_type": "code",
   "execution_count": 4,
   "metadata": {},
   "outputs": [
    {
     "data": {
      "text/plain": [
       "array([ 0.1450173 ,  0.18285799, -0.64946845, -0.16539065,  1.35567227,\n",
       "        1.33384574,  0.3423859 , -0.78790428,  0.73208906, -0.59539661])"
      ]
     },
     "execution_count": 4,
     "metadata": {},
     "output_type": "execute_result"
    }
   ],
   "source": [
    "s1.values"
   ]
  },
  {
   "cell_type": "code",
   "execution_count": 5,
   "metadata": {},
   "outputs": [
    {
     "data": {
      "text/plain": [
       "RangeIndex(start=0, stop=10, step=1)"
      ]
     },
     "execution_count": 5,
     "metadata": {},
     "output_type": "execute_result"
    }
   ],
   "source": [
    "s1.index"
   ]
  },
  {
   "cell_type": "code",
   "execution_count": 10,
   "metadata": {},
   "outputs": [],
   "source": [
    "s2 = s1.sort_values()"
   ]
  },
  {
   "cell_type": "code",
   "execution_count": 11,
   "metadata": {},
   "outputs": [
    {
     "data": {
      "text/plain": [
       "7   -0.787904\n",
       "2   -0.649468\n",
       "9   -0.595397\n",
       "3   -0.165391\n",
       "0    0.145017\n",
       "1    0.182858\n",
       "6    0.342386\n",
       "8    0.732089\n",
       "5    1.333846\n",
       "4    1.355672\n",
       "dtype: float64"
      ]
     },
     "execution_count": 11,
     "metadata": {},
     "output_type": "execute_result"
    }
   ],
   "source": [
    "s2"
   ]
  },
  {
   "cell_type": "code",
   "execution_count": 8,
   "metadata": {},
   "outputs": [],
   "source": [
    "s2 = s1.sort_values(ascending=False)"
   ]
  },
  {
   "cell_type": "code",
   "execution_count": 9,
   "metadata": {},
   "outputs": [
    {
     "data": {
      "text/plain": [
       "4    1.355672\n",
       "5    1.333846\n",
       "8    0.732089\n",
       "6    0.342386\n",
       "1    0.182858\n",
       "0    0.145017\n",
       "3   -0.165391\n",
       "9   -0.595397\n",
       "2   -0.649468\n",
       "7   -0.787904\n",
       "dtype: float64"
      ]
     },
     "execution_count": 9,
     "metadata": {},
     "output_type": "execute_result"
    }
   ],
   "source": [
    "s2"
   ]
  },
  {
   "cell_type": "code",
   "execution_count": 12,
   "metadata": {},
   "outputs": [
    {
     "data": {
      "text/plain": [
       "0    0.145017\n",
       "1    0.182858\n",
       "2   -0.649468\n",
       "3   -0.165391\n",
       "4    1.355672\n",
       "5    1.333846\n",
       "6    0.342386\n",
       "7   -0.787904\n",
       "8    0.732089\n",
       "9   -0.595397\n",
       "dtype: float64"
      ]
     },
     "execution_count": 12,
     "metadata": {},
     "output_type": "execute_result"
    }
   ],
   "source": [
    "s2.sort_index()"
   ]
  },
  {
   "cell_type": "markdown",
   "metadata": {},
   "source": [
    "# DataFrame的排序"
   ]
  },
  {
   "cell_type": "code",
   "execution_count": 13,
   "metadata": {},
   "outputs": [],
   "source": [
    "df1 = DataFrame(np.random.randn(40).reshape(8,5))"
   ]
  },
  {
   "cell_type": "code",
   "execution_count": 14,
   "metadata": {},
   "outputs": [
    {
     "data": {
      "text/html": [
       "<div>\n",
       "<style scoped>\n",
       "    .dataframe tbody tr th:only-of-type {\n",
       "        vertical-align: middle;\n",
       "    }\n",
       "\n",
       "    .dataframe tbody tr th {\n",
       "        vertical-align: top;\n",
       "    }\n",
       "\n",
       "    .dataframe thead th {\n",
       "        text-align: right;\n",
       "    }\n",
       "</style>\n",
       "<table border=\"1\" class=\"dataframe\">\n",
       "  <thead>\n",
       "    <tr style=\"text-align: right;\">\n",
       "      <th></th>\n",
       "      <th>0</th>\n",
       "      <th>1</th>\n",
       "      <th>2</th>\n",
       "      <th>3</th>\n",
       "      <th>4</th>\n",
       "    </tr>\n",
       "  </thead>\n",
       "  <tbody>\n",
       "    <tr>\n",
       "      <th>0</th>\n",
       "      <td>1.427622</td>\n",
       "      <td>-0.313347</td>\n",
       "      <td>-0.401077</td>\n",
       "      <td>0.363040</td>\n",
       "      <td>1.187915</td>\n",
       "    </tr>\n",
       "    <tr>\n",
       "      <th>1</th>\n",
       "      <td>0.753678</td>\n",
       "      <td>-1.510032</td>\n",
       "      <td>0.742717</td>\n",
       "      <td>-0.251979</td>\n",
       "      <td>1.602793</td>\n",
       "    </tr>\n",
       "    <tr>\n",
       "      <th>2</th>\n",
       "      <td>1.734003</td>\n",
       "      <td>0.890887</td>\n",
       "      <td>0.733801</td>\n",
       "      <td>0.008739</td>\n",
       "      <td>-1.212342</td>\n",
       "    </tr>\n",
       "    <tr>\n",
       "      <th>3</th>\n",
       "      <td>-0.742840</td>\n",
       "      <td>-0.164781</td>\n",
       "      <td>-0.080455</td>\n",
       "      <td>-0.482947</td>\n",
       "      <td>0.263102</td>\n",
       "    </tr>\n",
       "    <tr>\n",
       "      <th>4</th>\n",
       "      <td>0.548417</td>\n",
       "      <td>-1.243848</td>\n",
       "      <td>-1.728020</td>\n",
       "      <td>0.234596</td>\n",
       "      <td>0.138310</td>\n",
       "    </tr>\n",
       "    <tr>\n",
       "      <th>5</th>\n",
       "      <td>0.076361</td>\n",
       "      <td>0.075856</td>\n",
       "      <td>1.398403</td>\n",
       "      <td>-0.132447</td>\n",
       "      <td>-0.547680</td>\n",
       "    </tr>\n",
       "    <tr>\n",
       "      <th>6</th>\n",
       "      <td>-0.798882</td>\n",
       "      <td>-1.014104</td>\n",
       "      <td>1.236369</td>\n",
       "      <td>-1.047799</td>\n",
       "      <td>0.774176</td>\n",
       "    </tr>\n",
       "    <tr>\n",
       "      <th>7</th>\n",
       "      <td>-1.316347</td>\n",
       "      <td>-0.355952</td>\n",
       "      <td>-0.511179</td>\n",
       "      <td>0.146640</td>\n",
       "      <td>0.994751</td>\n",
       "    </tr>\n",
       "  </tbody>\n",
       "</table>\n",
       "</div>"
      ],
      "text/plain": [
       "          0         1         2         3         4\n",
       "0  1.427622 -0.313347 -0.401077  0.363040  1.187915\n",
       "1  0.753678 -1.510032  0.742717 -0.251979  1.602793\n",
       "2  1.734003  0.890887  0.733801  0.008739 -1.212342\n",
       "3 -0.742840 -0.164781 -0.080455 -0.482947  0.263102\n",
       "4  0.548417 -1.243848 -1.728020  0.234596  0.138310\n",
       "5  0.076361  0.075856  1.398403 -0.132447 -0.547680\n",
       "6 -0.798882 -1.014104  1.236369 -1.047799  0.774176\n",
       "7 -1.316347 -0.355952 -0.511179  0.146640  0.994751"
      ]
     },
     "execution_count": 14,
     "metadata": {},
     "output_type": "execute_result"
    }
   ],
   "source": [
    "df1"
   ]
  },
  {
   "cell_type": "code",
   "execution_count": 15,
   "metadata": {},
   "outputs": [],
   "source": [
    "df1 = DataFrame(np.random.randn(40).reshape(8,5),columns=['A','B','C','D','E'])"
   ]
  },
  {
   "cell_type": "code",
   "execution_count": 16,
   "metadata": {},
   "outputs": [
    {
     "data": {
      "text/html": [
       "<div>\n",
       "<style scoped>\n",
       "    .dataframe tbody tr th:only-of-type {\n",
       "        vertical-align: middle;\n",
       "    }\n",
       "\n",
       "    .dataframe tbody tr th {\n",
       "        vertical-align: top;\n",
       "    }\n",
       "\n",
       "    .dataframe thead th {\n",
       "        text-align: right;\n",
       "    }\n",
       "</style>\n",
       "<table border=\"1\" class=\"dataframe\">\n",
       "  <thead>\n",
       "    <tr style=\"text-align: right;\">\n",
       "      <th></th>\n",
       "      <th>A</th>\n",
       "      <th>B</th>\n",
       "      <th>C</th>\n",
       "      <th>D</th>\n",
       "      <th>E</th>\n",
       "    </tr>\n",
       "  </thead>\n",
       "  <tbody>\n",
       "    <tr>\n",
       "      <th>0</th>\n",
       "      <td>-1.846262</td>\n",
       "      <td>-1.089930</td>\n",
       "      <td>1.252895</td>\n",
       "      <td>0.453198</td>\n",
       "      <td>1.038826</td>\n",
       "    </tr>\n",
       "    <tr>\n",
       "      <th>1</th>\n",
       "      <td>-2.010891</td>\n",
       "      <td>-0.124618</td>\n",
       "      <td>0.235885</td>\n",
       "      <td>0.204741</td>\n",
       "      <td>1.778833</td>\n",
       "    </tr>\n",
       "    <tr>\n",
       "      <th>2</th>\n",
       "      <td>-0.499083</td>\n",
       "      <td>1.823203</td>\n",
       "      <td>1.318216</td>\n",
       "      <td>0.067975</td>\n",
       "      <td>-1.791450</td>\n",
       "    </tr>\n",
       "    <tr>\n",
       "      <th>3</th>\n",
       "      <td>-0.149100</td>\n",
       "      <td>-0.373245</td>\n",
       "      <td>-0.010107</td>\n",
       "      <td>2.189845</td>\n",
       "      <td>-0.397331</td>\n",
       "    </tr>\n",
       "    <tr>\n",
       "      <th>4</th>\n",
       "      <td>1.153153</td>\n",
       "      <td>-0.509593</td>\n",
       "      <td>3.051108</td>\n",
       "      <td>-0.999314</td>\n",
       "      <td>-1.493428</td>\n",
       "    </tr>\n",
       "    <tr>\n",
       "      <th>5</th>\n",
       "      <td>-0.372352</td>\n",
       "      <td>-1.122202</td>\n",
       "      <td>0.953863</td>\n",
       "      <td>-0.069354</td>\n",
       "      <td>0.870794</td>\n",
       "    </tr>\n",
       "    <tr>\n",
       "      <th>6</th>\n",
       "      <td>-0.568754</td>\n",
       "      <td>0.482800</td>\n",
       "      <td>-1.037166</td>\n",
       "      <td>-0.843790</td>\n",
       "      <td>-0.818859</td>\n",
       "    </tr>\n",
       "    <tr>\n",
       "      <th>7</th>\n",
       "      <td>0.450936</td>\n",
       "      <td>-1.392031</td>\n",
       "      <td>-0.528270</td>\n",
       "      <td>-0.828590</td>\n",
       "      <td>-0.723836</td>\n",
       "    </tr>\n",
       "  </tbody>\n",
       "</table>\n",
       "</div>"
      ],
      "text/plain": [
       "          A         B         C         D         E\n",
       "0 -1.846262 -1.089930  1.252895  0.453198  1.038826\n",
       "1 -2.010891 -0.124618  0.235885  0.204741  1.778833\n",
       "2 -0.499083  1.823203  1.318216  0.067975 -1.791450\n",
       "3 -0.149100 -0.373245 -0.010107  2.189845 -0.397331\n",
       "4  1.153153 -0.509593  3.051108 -0.999314 -1.493428\n",
       "5 -0.372352 -1.122202  0.953863 -0.069354  0.870794\n",
       "6 -0.568754  0.482800 -1.037166 -0.843790 -0.818859\n",
       "7  0.450936 -1.392031 -0.528270 -0.828590 -0.723836"
      ]
     },
     "execution_count": 16,
     "metadata": {},
     "output_type": "execute_result"
    }
   ],
   "source": [
    "df1"
   ]
  },
  {
   "cell_type": "code",
   "execution_count": 17,
   "metadata": {},
   "outputs": [
    {
     "data": {
      "text/plain": [
       "1   -2.010891\n",
       "0   -1.846262\n",
       "6   -0.568754\n",
       "2   -0.499083\n",
       "5   -0.372352\n",
       "3   -0.149100\n",
       "7    0.450936\n",
       "4    1.153153\n",
       "Name: A, dtype: float64"
      ]
     },
     "execution_count": 17,
     "metadata": {},
     "output_type": "execute_result"
    }
   ],
   "source": [
    "df1['A'].sort_values()"
   ]
  },
  {
   "cell_type": "code",
   "execution_count": 18,
   "metadata": {},
   "outputs": [
    {
     "data": {
      "text/html": [
       "<div>\n",
       "<style scoped>\n",
       "    .dataframe tbody tr th:only-of-type {\n",
       "        vertical-align: middle;\n",
       "    }\n",
       "\n",
       "    .dataframe tbody tr th {\n",
       "        vertical-align: top;\n",
       "    }\n",
       "\n",
       "    .dataframe thead th {\n",
       "        text-align: right;\n",
       "    }\n",
       "</style>\n",
       "<table border=\"1\" class=\"dataframe\">\n",
       "  <thead>\n",
       "    <tr style=\"text-align: right;\">\n",
       "      <th></th>\n",
       "      <th>A</th>\n",
       "      <th>B</th>\n",
       "      <th>C</th>\n",
       "      <th>D</th>\n",
       "      <th>E</th>\n",
       "    </tr>\n",
       "  </thead>\n",
       "  <tbody>\n",
       "    <tr>\n",
       "      <th>1</th>\n",
       "      <td>-2.010891</td>\n",
       "      <td>-0.124618</td>\n",
       "      <td>0.235885</td>\n",
       "      <td>0.204741</td>\n",
       "      <td>1.778833</td>\n",
       "    </tr>\n",
       "    <tr>\n",
       "      <th>0</th>\n",
       "      <td>-1.846262</td>\n",
       "      <td>-1.089930</td>\n",
       "      <td>1.252895</td>\n",
       "      <td>0.453198</td>\n",
       "      <td>1.038826</td>\n",
       "    </tr>\n",
       "    <tr>\n",
       "      <th>6</th>\n",
       "      <td>-0.568754</td>\n",
       "      <td>0.482800</td>\n",
       "      <td>-1.037166</td>\n",
       "      <td>-0.843790</td>\n",
       "      <td>-0.818859</td>\n",
       "    </tr>\n",
       "    <tr>\n",
       "      <th>2</th>\n",
       "      <td>-0.499083</td>\n",
       "      <td>1.823203</td>\n",
       "      <td>1.318216</td>\n",
       "      <td>0.067975</td>\n",
       "      <td>-1.791450</td>\n",
       "    </tr>\n",
       "    <tr>\n",
       "      <th>5</th>\n",
       "      <td>-0.372352</td>\n",
       "      <td>-1.122202</td>\n",
       "      <td>0.953863</td>\n",
       "      <td>-0.069354</td>\n",
       "      <td>0.870794</td>\n",
       "    </tr>\n",
       "    <tr>\n",
       "      <th>3</th>\n",
       "      <td>-0.149100</td>\n",
       "      <td>-0.373245</td>\n",
       "      <td>-0.010107</td>\n",
       "      <td>2.189845</td>\n",
       "      <td>-0.397331</td>\n",
       "    </tr>\n",
       "    <tr>\n",
       "      <th>7</th>\n",
       "      <td>0.450936</td>\n",
       "      <td>-1.392031</td>\n",
       "      <td>-0.528270</td>\n",
       "      <td>-0.828590</td>\n",
       "      <td>-0.723836</td>\n",
       "    </tr>\n",
       "    <tr>\n",
       "      <th>4</th>\n",
       "      <td>1.153153</td>\n",
       "      <td>-0.509593</td>\n",
       "      <td>3.051108</td>\n",
       "      <td>-0.999314</td>\n",
       "      <td>-1.493428</td>\n",
       "    </tr>\n",
       "  </tbody>\n",
       "</table>\n",
       "</div>"
      ],
      "text/plain": [
       "          A         B         C         D         E\n",
       "1 -2.010891 -0.124618  0.235885  0.204741  1.778833\n",
       "0 -1.846262 -1.089930  1.252895  0.453198  1.038826\n",
       "6 -0.568754  0.482800 -1.037166 -0.843790 -0.818859\n",
       "2 -0.499083  1.823203  1.318216  0.067975 -1.791450\n",
       "5 -0.372352 -1.122202  0.953863 -0.069354  0.870794\n",
       "3 -0.149100 -0.373245 -0.010107  2.189845 -0.397331\n",
       "7  0.450936 -1.392031 -0.528270 -0.828590 -0.723836\n",
       "4  1.153153 -0.509593  3.051108 -0.999314 -1.493428"
      ]
     },
     "execution_count": 18,
     "metadata": {},
     "output_type": "execute_result"
    }
   ],
   "source": [
    "df1.sort_values('A')"
   ]
  },
  {
   "cell_type": "code",
   "execution_count": 19,
   "metadata": {},
   "outputs": [],
   "source": [
    "df2 = df1.sort_values('A')"
   ]
  },
  {
   "cell_type": "code",
   "execution_count": 20,
   "metadata": {},
   "outputs": [
    {
     "data": {
      "text/html": [
       "<div>\n",
       "<style scoped>\n",
       "    .dataframe tbody tr th:only-of-type {\n",
       "        vertical-align: middle;\n",
       "    }\n",
       "\n",
       "    .dataframe tbody tr th {\n",
       "        vertical-align: top;\n",
       "    }\n",
       "\n",
       "    .dataframe thead th {\n",
       "        text-align: right;\n",
       "    }\n",
       "</style>\n",
       "<table border=\"1\" class=\"dataframe\">\n",
       "  <thead>\n",
       "    <tr style=\"text-align: right;\">\n",
       "      <th></th>\n",
       "      <th>A</th>\n",
       "      <th>B</th>\n",
       "      <th>C</th>\n",
       "      <th>D</th>\n",
       "      <th>E</th>\n",
       "    </tr>\n",
       "  </thead>\n",
       "  <tbody>\n",
       "    <tr>\n",
       "      <th>1</th>\n",
       "      <td>-2.010891</td>\n",
       "      <td>-0.124618</td>\n",
       "      <td>0.235885</td>\n",
       "      <td>0.204741</td>\n",
       "      <td>1.778833</td>\n",
       "    </tr>\n",
       "    <tr>\n",
       "      <th>0</th>\n",
       "      <td>-1.846262</td>\n",
       "      <td>-1.089930</td>\n",
       "      <td>1.252895</td>\n",
       "      <td>0.453198</td>\n",
       "      <td>1.038826</td>\n",
       "    </tr>\n",
       "    <tr>\n",
       "      <th>6</th>\n",
       "      <td>-0.568754</td>\n",
       "      <td>0.482800</td>\n",
       "      <td>-1.037166</td>\n",
       "      <td>-0.843790</td>\n",
       "      <td>-0.818859</td>\n",
       "    </tr>\n",
       "    <tr>\n",
       "      <th>2</th>\n",
       "      <td>-0.499083</td>\n",
       "      <td>1.823203</td>\n",
       "      <td>1.318216</td>\n",
       "      <td>0.067975</td>\n",
       "      <td>-1.791450</td>\n",
       "    </tr>\n",
       "    <tr>\n",
       "      <th>5</th>\n",
       "      <td>-0.372352</td>\n",
       "      <td>-1.122202</td>\n",
       "      <td>0.953863</td>\n",
       "      <td>-0.069354</td>\n",
       "      <td>0.870794</td>\n",
       "    </tr>\n",
       "    <tr>\n",
       "      <th>3</th>\n",
       "      <td>-0.149100</td>\n",
       "      <td>-0.373245</td>\n",
       "      <td>-0.010107</td>\n",
       "      <td>2.189845</td>\n",
       "      <td>-0.397331</td>\n",
       "    </tr>\n",
       "    <tr>\n",
       "      <th>7</th>\n",
       "      <td>0.450936</td>\n",
       "      <td>-1.392031</td>\n",
       "      <td>-0.528270</td>\n",
       "      <td>-0.828590</td>\n",
       "      <td>-0.723836</td>\n",
       "    </tr>\n",
       "    <tr>\n",
       "      <th>4</th>\n",
       "      <td>1.153153</td>\n",
       "      <td>-0.509593</td>\n",
       "      <td>3.051108</td>\n",
       "      <td>-0.999314</td>\n",
       "      <td>-1.493428</td>\n",
       "    </tr>\n",
       "  </tbody>\n",
       "</table>\n",
       "</div>"
      ],
      "text/plain": [
       "          A         B         C         D         E\n",
       "1 -2.010891 -0.124618  0.235885  0.204741  1.778833\n",
       "0 -1.846262 -1.089930  1.252895  0.453198  1.038826\n",
       "6 -0.568754  0.482800 -1.037166 -0.843790 -0.818859\n",
       "2 -0.499083  1.823203  1.318216  0.067975 -1.791450\n",
       "5 -0.372352 -1.122202  0.953863 -0.069354  0.870794\n",
       "3 -0.149100 -0.373245 -0.010107  2.189845 -0.397331\n",
       "7  0.450936 -1.392031 -0.528270 -0.828590 -0.723836\n",
       "4  1.153153 -0.509593  3.051108 -0.999314 -1.493428"
      ]
     },
     "execution_count": 20,
     "metadata": {},
     "output_type": "execute_result"
    }
   ],
   "source": [
    "df2"
   ]
  },
  {
   "cell_type": "code",
   "execution_count": 21,
   "metadata": {},
   "outputs": [
    {
     "data": {
      "text/html": [
       "<div>\n",
       "<style scoped>\n",
       "    .dataframe tbody tr th:only-of-type {\n",
       "        vertical-align: middle;\n",
       "    }\n",
       "\n",
       "    .dataframe tbody tr th {\n",
       "        vertical-align: top;\n",
       "    }\n",
       "\n",
       "    .dataframe thead th {\n",
       "        text-align: right;\n",
       "    }\n",
       "</style>\n",
       "<table border=\"1\" class=\"dataframe\">\n",
       "  <thead>\n",
       "    <tr style=\"text-align: right;\">\n",
       "      <th></th>\n",
       "      <th>A</th>\n",
       "      <th>B</th>\n",
       "      <th>C</th>\n",
       "      <th>D</th>\n",
       "      <th>E</th>\n",
       "    </tr>\n",
       "  </thead>\n",
       "  <tbody>\n",
       "    <tr>\n",
       "      <th>0</th>\n",
       "      <td>-1.846262</td>\n",
       "      <td>-1.089930</td>\n",
       "      <td>1.252895</td>\n",
       "      <td>0.453198</td>\n",
       "      <td>1.038826</td>\n",
       "    </tr>\n",
       "    <tr>\n",
       "      <th>1</th>\n",
       "      <td>-2.010891</td>\n",
       "      <td>-0.124618</td>\n",
       "      <td>0.235885</td>\n",
       "      <td>0.204741</td>\n",
       "      <td>1.778833</td>\n",
       "    </tr>\n",
       "    <tr>\n",
       "      <th>2</th>\n",
       "      <td>-0.499083</td>\n",
       "      <td>1.823203</td>\n",
       "      <td>1.318216</td>\n",
       "      <td>0.067975</td>\n",
       "      <td>-1.791450</td>\n",
       "    </tr>\n",
       "    <tr>\n",
       "      <th>3</th>\n",
       "      <td>-0.149100</td>\n",
       "      <td>-0.373245</td>\n",
       "      <td>-0.010107</td>\n",
       "      <td>2.189845</td>\n",
       "      <td>-0.397331</td>\n",
       "    </tr>\n",
       "    <tr>\n",
       "      <th>4</th>\n",
       "      <td>1.153153</td>\n",
       "      <td>-0.509593</td>\n",
       "      <td>3.051108</td>\n",
       "      <td>-0.999314</td>\n",
       "      <td>-1.493428</td>\n",
       "    </tr>\n",
       "    <tr>\n",
       "      <th>5</th>\n",
       "      <td>-0.372352</td>\n",
       "      <td>-1.122202</td>\n",
       "      <td>0.953863</td>\n",
       "      <td>-0.069354</td>\n",
       "      <td>0.870794</td>\n",
       "    </tr>\n",
       "    <tr>\n",
       "      <th>6</th>\n",
       "      <td>-0.568754</td>\n",
       "      <td>0.482800</td>\n",
       "      <td>-1.037166</td>\n",
       "      <td>-0.843790</td>\n",
       "      <td>-0.818859</td>\n",
       "    </tr>\n",
       "    <tr>\n",
       "      <th>7</th>\n",
       "      <td>0.450936</td>\n",
       "      <td>-1.392031</td>\n",
       "      <td>-0.528270</td>\n",
       "      <td>-0.828590</td>\n",
       "      <td>-0.723836</td>\n",
       "    </tr>\n",
       "  </tbody>\n",
       "</table>\n",
       "</div>"
      ],
      "text/plain": [
       "          A         B         C         D         E\n",
       "0 -1.846262 -1.089930  1.252895  0.453198  1.038826\n",
       "1 -2.010891 -0.124618  0.235885  0.204741  1.778833\n",
       "2 -0.499083  1.823203  1.318216  0.067975 -1.791450\n",
       "3 -0.149100 -0.373245 -0.010107  2.189845 -0.397331\n",
       "4  1.153153 -0.509593  3.051108 -0.999314 -1.493428\n",
       "5 -0.372352 -1.122202  0.953863 -0.069354  0.870794\n",
       "6 -0.568754  0.482800 -1.037166 -0.843790 -0.818859\n",
       "7  0.450936 -1.392031 -0.528270 -0.828590 -0.723836"
      ]
     },
     "execution_count": 21,
     "metadata": {},
     "output_type": "execute_result"
    }
   ],
   "source": [
    "df2.sort_index()"
   ]
  },
  {
   "cell_type": "code",
   "execution_count": 22,
   "metadata": {},
   "outputs": [
    {
     "data": {
      "text/html": [
       "<div>\n",
       "<style scoped>\n",
       "    .dataframe tbody tr th:only-of-type {\n",
       "        vertical-align: middle;\n",
       "    }\n",
       "\n",
       "    .dataframe tbody tr th {\n",
       "        vertical-align: top;\n",
       "    }\n",
       "\n",
       "    .dataframe thead th {\n",
       "        text-align: right;\n",
       "    }\n",
       "</style>\n",
       "<table border=\"1\" class=\"dataframe\">\n",
       "  <thead>\n",
       "    <tr style=\"text-align: right;\">\n",
       "      <th></th>\n",
       "      <th>A</th>\n",
       "      <th>B</th>\n",
       "      <th>C</th>\n",
       "      <th>D</th>\n",
       "      <th>E</th>\n",
       "    </tr>\n",
       "  </thead>\n",
       "  <tbody>\n",
       "    <tr>\n",
       "      <th>0</th>\n",
       "      <td>-1.846262</td>\n",
       "      <td>-1.089930</td>\n",
       "      <td>1.252895</td>\n",
       "      <td>0.453198</td>\n",
       "      <td>1.038826</td>\n",
       "    </tr>\n",
       "    <tr>\n",
       "      <th>1</th>\n",
       "      <td>-2.010891</td>\n",
       "      <td>-0.124618</td>\n",
       "      <td>0.235885</td>\n",
       "      <td>0.204741</td>\n",
       "      <td>1.778833</td>\n",
       "    </tr>\n",
       "    <tr>\n",
       "      <th>2</th>\n",
       "      <td>-0.499083</td>\n",
       "      <td>1.823203</td>\n",
       "      <td>1.318216</td>\n",
       "      <td>0.067975</td>\n",
       "      <td>-1.791450</td>\n",
       "    </tr>\n",
       "    <tr>\n",
       "      <th>3</th>\n",
       "      <td>-0.149100</td>\n",
       "      <td>-0.373245</td>\n",
       "      <td>-0.010107</td>\n",
       "      <td>2.189845</td>\n",
       "      <td>-0.397331</td>\n",
       "    </tr>\n",
       "    <tr>\n",
       "      <th>4</th>\n",
       "      <td>1.153153</td>\n",
       "      <td>-0.509593</td>\n",
       "      <td>3.051108</td>\n",
       "      <td>-0.999314</td>\n",
       "      <td>-1.493428</td>\n",
       "    </tr>\n",
       "    <tr>\n",
       "      <th>5</th>\n",
       "      <td>-0.372352</td>\n",
       "      <td>-1.122202</td>\n",
       "      <td>0.953863</td>\n",
       "      <td>-0.069354</td>\n",
       "      <td>0.870794</td>\n",
       "    </tr>\n",
       "    <tr>\n",
       "      <th>6</th>\n",
       "      <td>-0.568754</td>\n",
       "      <td>0.482800</td>\n",
       "      <td>-1.037166</td>\n",
       "      <td>-0.843790</td>\n",
       "      <td>-0.818859</td>\n",
       "    </tr>\n",
       "    <tr>\n",
       "      <th>7</th>\n",
       "      <td>0.450936</td>\n",
       "      <td>-1.392031</td>\n",
       "      <td>-0.528270</td>\n",
       "      <td>-0.828590</td>\n",
       "      <td>-0.723836</td>\n",
       "    </tr>\n",
       "  </tbody>\n",
       "</table>\n",
       "</div>"
      ],
      "text/plain": [
       "          A         B         C         D         E\n",
       "0 -1.846262 -1.089930  1.252895  0.453198  1.038826\n",
       "1 -2.010891 -0.124618  0.235885  0.204741  1.778833\n",
       "2 -0.499083  1.823203  1.318216  0.067975 -1.791450\n",
       "3 -0.149100 -0.373245 -0.010107  2.189845 -0.397331\n",
       "4  1.153153 -0.509593  3.051108 -0.999314 -1.493428\n",
       "5 -0.372352 -1.122202  0.953863 -0.069354  0.870794\n",
       "6 -0.568754  0.482800 -1.037166 -0.843790 -0.818859\n",
       "7  0.450936 -1.392031 -0.528270 -0.828590 -0.723836"
      ]
     },
     "execution_count": 22,
     "metadata": {},
     "output_type": "execute_result"
    }
   ],
   "source": [
    "df1"
   ]
  },
  {
   "cell_type": "code",
   "execution_count": null,
   "metadata": {},
   "outputs": [],
   "source": []
  }
 ],
 "metadata": {
  "kernelspec": {
   "display_name": "Python 3",
   "language": "python",
   "name": "python3"
  },
  "language_info": {
   "codemirror_mode": {
    "name": "ipython",
    "version": 3
   },
   "file_extension": ".py",
   "mimetype": "text/x-python",
   "name": "python",
   "nbconvert_exporter": "python",
   "pygments_lexer": "ipython3",
   "version": "3.7.3"
  }
 },
 "nbformat": 4,
 "nbformat_minor": 2
}
