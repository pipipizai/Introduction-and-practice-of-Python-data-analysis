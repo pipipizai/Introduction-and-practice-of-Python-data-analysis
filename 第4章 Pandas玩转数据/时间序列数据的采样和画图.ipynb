{
 "cells": [
  {
   "cell_type": "code",
   "execution_count": 1,
   "metadata": {},
   "outputs": [],
   "source": [
    "import numpy as np\n",
    "import pandas as pd\n",
    "from pandas import Series, DataFrame"
   ]
  },
  {
   "cell_type": "code",
   "execution_count": 2,
   "metadata": {},
   "outputs": [],
   "source": [
    "t_range = pd.date_range('2016-01-01','2016-12-31')"
   ]
  },
  {
   "cell_type": "code",
   "execution_count": 3,
   "metadata": {},
   "outputs": [
    {
     "data": {
      "text/plain": [
       "DatetimeIndex(['2016-01-01', '2016-01-02', '2016-01-03', '2016-01-04',\n",
       "               '2016-01-05', '2016-01-06', '2016-01-07', '2016-01-08',\n",
       "               '2016-01-09', '2016-01-10',\n",
       "               ...\n",
       "               '2016-12-22', '2016-12-23', '2016-12-24', '2016-12-25',\n",
       "               '2016-12-26', '2016-12-27', '2016-12-28', '2016-12-29',\n",
       "               '2016-12-30', '2016-12-31'],\n",
       "              dtype='datetime64[ns]', length=366, freq='D')"
      ]
     },
     "execution_count": 3,
     "metadata": {},
     "output_type": "execute_result"
    }
   ],
   "source": [
    "t_range"
   ]
  },
  {
   "cell_type": "code",
   "execution_count": 4,
   "metadata": {},
   "outputs": [],
   "source": [
    "s1 = Series(np.random.randn(len(t_range)),index=t_range)"
   ]
  },
  {
   "cell_type": "code",
   "execution_count": 5,
   "metadata": {},
   "outputs": [
    {
     "data": {
      "text/plain": [
       "2016-01-01    1.207330\n",
       "2016-01-02   -0.560055\n",
       "2016-01-03   -0.801833\n",
       "2016-01-04    0.628675\n",
       "2016-01-05    0.227026\n",
       "2016-01-06    0.704674\n",
       "2016-01-07    0.384975\n",
       "2016-01-08   -0.348638\n",
       "2016-01-09    0.555083\n",
       "2016-01-10   -0.287898\n",
       "2016-01-11   -0.245674\n",
       "2016-01-12   -0.232040\n",
       "2016-01-13   -0.107234\n",
       "2016-01-14    0.464397\n",
       "2016-01-15   -1.461539\n",
       "2016-01-16    0.879293\n",
       "2016-01-17   -1.834113\n",
       "2016-01-18    0.089190\n",
       "2016-01-19   -1.747117\n",
       "2016-01-20    1.170969\n",
       "2016-01-21   -2.661994\n",
       "2016-01-22   -0.252714\n",
       "2016-01-23    0.925095\n",
       "2016-01-24    0.950482\n",
       "2016-01-25   -0.568979\n",
       "2016-01-26    0.334935\n",
       "2016-01-27   -0.109018\n",
       "2016-01-28   -0.501691\n",
       "2016-01-29    1.349446\n",
       "2016-01-30    2.355311\n",
       "                ...   \n",
       "2016-12-02    0.426432\n",
       "2016-12-03    0.087988\n",
       "2016-12-04    0.754505\n",
       "2016-12-05    0.280559\n",
       "2016-12-06   -0.679515\n",
       "2016-12-07    1.384660\n",
       "2016-12-08    0.517237\n",
       "2016-12-09   -0.643421\n",
       "2016-12-10   -0.154161\n",
       "2016-12-11    0.275725\n",
       "2016-12-12   -1.993869\n",
       "2016-12-13    0.251241\n",
       "2016-12-14    1.224973\n",
       "2016-12-15    0.392726\n",
       "2016-12-16   -0.376958\n",
       "2016-12-17   -0.386055\n",
       "2016-12-18    0.551635\n",
       "2016-12-19    0.594579\n",
       "2016-12-20   -0.630710\n",
       "2016-12-21    0.149072\n",
       "2016-12-22    0.938891\n",
       "2016-12-23    0.150207\n",
       "2016-12-24   -0.049743\n",
       "2016-12-25    0.634680\n",
       "2016-12-26    0.684170\n",
       "2016-12-27   -1.248641\n",
       "2016-12-28    0.495237\n",
       "2016-12-29   -0.450828\n",
       "2016-12-30   -1.120227\n",
       "2016-12-31    2.187064\n",
       "Freq: D, Length: 366, dtype: float64"
      ]
     },
     "execution_count": 5,
     "metadata": {},
     "output_type": "execute_result"
    }
   ],
   "source": [
    "s1"
   ]
  },
  {
   "cell_type": "code",
   "execution_count": 8,
   "metadata": {},
   "outputs": [
    {
     "data": {
      "text/plain": [
       "2016-01-01    1.207330\n",
       "2016-01-02   -0.560055\n",
       "2016-01-03   -0.801833\n",
       "2016-01-04    0.628675\n",
       "2016-01-05    0.227026\n",
       "2016-01-06    0.704674\n",
       "2016-01-07    0.384975\n",
       "2016-01-08   -0.348638\n",
       "2016-01-09    0.555083\n",
       "2016-01-10   -0.287898\n",
       "2016-01-11   -0.245674\n",
       "2016-01-12   -0.232040\n",
       "2016-01-13   -0.107234\n",
       "2016-01-14    0.464397\n",
       "2016-01-15   -1.461539\n",
       "2016-01-16    0.879293\n",
       "2016-01-17   -1.834113\n",
       "2016-01-18    0.089190\n",
       "2016-01-19   -1.747117\n",
       "2016-01-20    1.170969\n",
       "2016-01-21   -2.661994\n",
       "2016-01-22   -0.252714\n",
       "2016-01-23    0.925095\n",
       "2016-01-24    0.950482\n",
       "2016-01-25   -0.568979\n",
       "2016-01-26    0.334935\n",
       "2016-01-27   -0.109018\n",
       "2016-01-28   -0.501691\n",
       "2016-01-29    1.349446\n",
       "2016-01-30    2.355311\n",
       "2016-01-31    0.065960\n",
       "Freq: D, dtype: float64"
      ]
     },
     "execution_count": 8,
     "metadata": {},
     "output_type": "execute_result"
    }
   ],
   "source": [
    "s1['2016-01']"
   ]
  },
  {
   "cell_type": "code",
   "execution_count": 9,
   "metadata": {},
   "outputs": [
    {
     "data": {
      "text/plain": [
       "0.018461385240069895"
      ]
     },
     "execution_count": 9,
     "metadata": {},
     "output_type": "execute_result"
    }
   ],
   "source": [
    "s1['2016-01'].mean()"
   ]
  },
  {
   "cell_type": "code",
   "execution_count": 10,
   "metadata": {},
   "outputs": [],
   "source": [
    "s1_month = s1.resample('M').mean()"
   ]
  },
  {
   "cell_type": "code",
   "execution_count": 11,
   "metadata": {},
   "outputs": [
    {
     "data": {
      "text/plain": [
       "2016-01-31    0.018461\n",
       "2016-02-29    0.049922\n",
       "2016-03-31    0.079326\n",
       "2016-04-30   -0.076894\n",
       "2016-05-31    0.370531\n",
       "2016-06-30   -0.057688\n",
       "2016-07-31   -0.012417\n",
       "2016-08-31   -0.146651\n",
       "2016-09-30   -0.178869\n",
       "2016-10-31    0.043429\n",
       "2016-11-30   -0.124506\n",
       "2016-12-31    0.209690\n",
       "Freq: M, dtype: float64"
      ]
     },
     "execution_count": 11,
     "metadata": {},
     "output_type": "execute_result"
    }
   ],
   "source": [
    "s1_month"
   ]
  },
  {
   "cell_type": "code",
   "execution_count": 12,
   "metadata": {
    "scrolled": true
   },
   "outputs": [
    {
     "data": {
      "text/plain": [
       "DatetimeIndex(['2016-01-31', '2016-02-29', '2016-03-31', '2016-04-30',\n",
       "               '2016-05-31', '2016-06-30', '2016-07-31', '2016-08-31',\n",
       "               '2016-09-30', '2016-10-31', '2016-11-30', '2016-12-31'],\n",
       "              dtype='datetime64[ns]', freq='M')"
      ]
     },
     "execution_count": 12,
     "metadata": {},
     "output_type": "execute_result"
    }
   ],
   "source": [
    "s1_month.index"
   ]
  },
  {
   "cell_type": "code",
   "execution_count": 13,
   "metadata": {},
   "outputs": [
    {
     "data": {
      "text/plain": [
       "2016-01-01 00:00:00    1.207330\n",
       "2016-01-01 01:00:00    1.207330\n",
       "2016-01-01 02:00:00    1.207330\n",
       "2016-01-01 03:00:00    1.207330\n",
       "2016-01-01 04:00:00    1.207330\n",
       "2016-01-01 05:00:00    1.207330\n",
       "2016-01-01 06:00:00    1.207330\n",
       "2016-01-01 07:00:00    1.207330\n",
       "2016-01-01 08:00:00    1.207330\n",
       "2016-01-01 09:00:00    1.207330\n",
       "2016-01-01 10:00:00    1.207330\n",
       "2016-01-01 11:00:00    1.207330\n",
       "2016-01-01 12:00:00    1.207330\n",
       "2016-01-01 13:00:00    1.207330\n",
       "2016-01-01 14:00:00    1.207330\n",
       "2016-01-01 15:00:00    1.207330\n",
       "2016-01-01 16:00:00    1.207330\n",
       "2016-01-01 17:00:00    1.207330\n",
       "2016-01-01 18:00:00    1.207330\n",
       "2016-01-01 19:00:00    1.207330\n",
       "2016-01-01 20:00:00    1.207330\n",
       "2016-01-01 21:00:00    1.207330\n",
       "2016-01-01 22:00:00    1.207330\n",
       "2016-01-01 23:00:00    1.207330\n",
       "2016-01-02 00:00:00   -0.560055\n",
       "2016-01-02 01:00:00   -0.560055\n",
       "2016-01-02 02:00:00   -0.560055\n",
       "2016-01-02 03:00:00   -0.560055\n",
       "2016-01-02 04:00:00   -0.560055\n",
       "2016-01-02 05:00:00   -0.560055\n",
       "                         ...   \n",
       "2016-12-29 19:00:00   -0.450828\n",
       "2016-12-29 20:00:00   -0.450828\n",
       "2016-12-29 21:00:00   -0.450828\n",
       "2016-12-29 22:00:00   -0.450828\n",
       "2016-12-29 23:00:00   -0.450828\n",
       "2016-12-30 00:00:00   -1.120227\n",
       "2016-12-30 01:00:00   -1.120227\n",
       "2016-12-30 02:00:00   -1.120227\n",
       "2016-12-30 03:00:00   -1.120227\n",
       "2016-12-30 04:00:00   -1.120227\n",
       "2016-12-30 05:00:00   -1.120227\n",
       "2016-12-30 06:00:00   -1.120227\n",
       "2016-12-30 07:00:00   -1.120227\n",
       "2016-12-30 08:00:00   -1.120227\n",
       "2016-12-30 09:00:00   -1.120227\n",
       "2016-12-30 10:00:00   -1.120227\n",
       "2016-12-30 11:00:00   -1.120227\n",
       "2016-12-30 12:00:00   -1.120227\n",
       "2016-12-30 13:00:00   -1.120227\n",
       "2016-12-30 14:00:00   -1.120227\n",
       "2016-12-30 15:00:00   -1.120227\n",
       "2016-12-30 16:00:00   -1.120227\n",
       "2016-12-30 17:00:00   -1.120227\n",
       "2016-12-30 18:00:00   -1.120227\n",
       "2016-12-30 19:00:00   -1.120227\n",
       "2016-12-30 20:00:00   -1.120227\n",
       "2016-12-30 21:00:00   -1.120227\n",
       "2016-12-30 22:00:00   -1.120227\n",
       "2016-12-30 23:00:00   -1.120227\n",
       "2016-12-31 00:00:00    2.187064\n",
       "Freq: H, Length: 8761, dtype: float64"
      ]
     },
     "execution_count": 13,
     "metadata": {},
     "output_type": "execute_result"
    }
   ],
   "source": [
    "s1.resample('H').ffill()"
   ]
  },
  {
   "cell_type": "code",
   "execution_count": 14,
   "metadata": {},
   "outputs": [
    {
     "data": {
      "text/plain": [
       "2016-01-01 00:00:00    1.207330\n",
       "2016-01-01 01:00:00   -0.560055\n",
       "2016-01-01 02:00:00   -0.560055\n",
       "2016-01-01 03:00:00   -0.560055\n",
       "2016-01-01 04:00:00   -0.560055\n",
       "2016-01-01 05:00:00   -0.560055\n",
       "2016-01-01 06:00:00   -0.560055\n",
       "2016-01-01 07:00:00   -0.560055\n",
       "2016-01-01 08:00:00   -0.560055\n",
       "2016-01-01 09:00:00   -0.560055\n",
       "2016-01-01 10:00:00   -0.560055\n",
       "2016-01-01 11:00:00   -0.560055\n",
       "2016-01-01 12:00:00   -0.560055\n",
       "2016-01-01 13:00:00   -0.560055\n",
       "2016-01-01 14:00:00   -0.560055\n",
       "2016-01-01 15:00:00   -0.560055\n",
       "2016-01-01 16:00:00   -0.560055\n",
       "2016-01-01 17:00:00   -0.560055\n",
       "2016-01-01 18:00:00   -0.560055\n",
       "2016-01-01 19:00:00   -0.560055\n",
       "2016-01-01 20:00:00   -0.560055\n",
       "2016-01-01 21:00:00   -0.560055\n",
       "2016-01-01 22:00:00   -0.560055\n",
       "2016-01-01 23:00:00   -0.560055\n",
       "2016-01-02 00:00:00   -0.560055\n",
       "2016-01-02 01:00:00   -0.801833\n",
       "2016-01-02 02:00:00   -0.801833\n",
       "2016-01-02 03:00:00   -0.801833\n",
       "2016-01-02 04:00:00   -0.801833\n",
       "2016-01-02 05:00:00   -0.801833\n",
       "                         ...   \n",
       "2016-12-29 19:00:00   -1.120227\n",
       "2016-12-29 20:00:00   -1.120227\n",
       "2016-12-29 21:00:00   -1.120227\n",
       "2016-12-29 22:00:00   -1.120227\n",
       "2016-12-29 23:00:00   -1.120227\n",
       "2016-12-30 00:00:00   -1.120227\n",
       "2016-12-30 01:00:00    2.187064\n",
       "2016-12-30 02:00:00    2.187064\n",
       "2016-12-30 03:00:00    2.187064\n",
       "2016-12-30 04:00:00    2.187064\n",
       "2016-12-30 05:00:00    2.187064\n",
       "2016-12-30 06:00:00    2.187064\n",
       "2016-12-30 07:00:00    2.187064\n",
       "2016-12-30 08:00:00    2.187064\n",
       "2016-12-30 09:00:00    2.187064\n",
       "2016-12-30 10:00:00    2.187064\n",
       "2016-12-30 11:00:00    2.187064\n",
       "2016-12-30 12:00:00    2.187064\n",
       "2016-12-30 13:00:00    2.187064\n",
       "2016-12-30 14:00:00    2.187064\n",
       "2016-12-30 15:00:00    2.187064\n",
       "2016-12-30 16:00:00    2.187064\n",
       "2016-12-30 17:00:00    2.187064\n",
       "2016-12-30 18:00:00    2.187064\n",
       "2016-12-30 19:00:00    2.187064\n",
       "2016-12-30 20:00:00    2.187064\n",
       "2016-12-30 21:00:00    2.187064\n",
       "2016-12-30 22:00:00    2.187064\n",
       "2016-12-30 23:00:00    2.187064\n",
       "2016-12-31 00:00:00    2.187064\n",
       "Freq: H, Length: 8761, dtype: float64"
      ]
     },
     "execution_count": 14,
     "metadata": {},
     "output_type": "execute_result"
    }
   ],
   "source": [
    "s1.resample('H').bfill()"
   ]
  },
  {
   "cell_type": "code",
   "execution_count": 15,
   "metadata": {},
   "outputs": [],
   "source": [
    "t_range = pd.date_range('2016-01-01','2016-12-31',freq='H')"
   ]
  },
  {
   "cell_type": "code",
   "execution_count": 16,
   "metadata": {},
   "outputs": [
    {
     "data": {
      "text/plain": [
       "DatetimeIndex(['2016-01-01 00:00:00', '2016-01-01 01:00:00',\n",
       "               '2016-01-01 02:00:00', '2016-01-01 03:00:00',\n",
       "               '2016-01-01 04:00:00', '2016-01-01 05:00:00',\n",
       "               '2016-01-01 06:00:00', '2016-01-01 07:00:00',\n",
       "               '2016-01-01 08:00:00', '2016-01-01 09:00:00',\n",
       "               ...\n",
       "               '2016-12-30 15:00:00', '2016-12-30 16:00:00',\n",
       "               '2016-12-30 17:00:00', '2016-12-30 18:00:00',\n",
       "               '2016-12-30 19:00:00', '2016-12-30 20:00:00',\n",
       "               '2016-12-30 21:00:00', '2016-12-30 22:00:00',\n",
       "               '2016-12-30 23:00:00', '2016-12-31 00:00:00'],\n",
       "              dtype='datetime64[ns]', length=8761, freq='H')"
      ]
     },
     "execution_count": 16,
     "metadata": {},
     "output_type": "execute_result"
    }
   ],
   "source": [
    "t_range"
   ]
  },
  {
   "cell_type": "code",
   "execution_count": 17,
   "metadata": {},
   "outputs": [],
   "source": [
    "stock_df = DataFrame(index=t_range)"
   ]
  },
  {
   "cell_type": "code",
   "execution_count": 19,
   "metadata": {},
   "outputs": [
    {
     "data": {
      "text/html": [
       "<div>\n",
       "<style scoped>\n",
       "    .dataframe tbody tr th:only-of-type {\n",
       "        vertical-align: middle;\n",
       "    }\n",
       "\n",
       "    .dataframe tbody tr th {\n",
       "        vertical-align: top;\n",
       "    }\n",
       "\n",
       "    .dataframe thead th {\n",
       "        text-align: right;\n",
       "    }\n",
       "</style>\n",
       "<table border=\"1\" class=\"dataframe\">\n",
       "  <thead>\n",
       "    <tr style=\"text-align: right;\">\n",
       "      <th></th>\n",
       "    </tr>\n",
       "  </thead>\n",
       "  <tbody>\n",
       "    <tr>\n",
       "      <th>2016-01-01 00:00:00</th>\n",
       "    </tr>\n",
       "    <tr>\n",
       "      <th>2016-01-01 01:00:00</th>\n",
       "    </tr>\n",
       "    <tr>\n",
       "      <th>2016-01-01 02:00:00</th>\n",
       "    </tr>\n",
       "    <tr>\n",
       "      <th>2016-01-01 03:00:00</th>\n",
       "    </tr>\n",
       "    <tr>\n",
       "      <th>2016-01-01 04:00:00</th>\n",
       "    </tr>\n",
       "  </tbody>\n",
       "</table>\n",
       "</div>"
      ],
      "text/plain": [
       "Empty DataFrame\n",
       "Columns: []\n",
       "Index: [2016-01-01 00:00:00, 2016-01-01 01:00:00, 2016-01-01 02:00:00, 2016-01-01 03:00:00, 2016-01-01 04:00:00]"
      ]
     },
     "execution_count": 19,
     "metadata": {},
     "output_type": "execute_result"
    }
   ],
   "source": [
    "stock_df.head()"
   ]
  },
  {
   "cell_type": "code",
   "execution_count": 20,
   "metadata": {},
   "outputs": [],
   "source": [
    "stock_df['BABA'] = np.random.randint(80,160,size=len(t_range))"
   ]
  },
  {
   "cell_type": "code",
   "execution_count": 22,
   "metadata": {},
   "outputs": [],
   "source": [
    "stock_df['TENCENT'] = np.random.randint(30,50,size=len(t_range))"
   ]
  },
  {
   "cell_type": "code",
   "execution_count": 23,
   "metadata": {},
   "outputs": [
    {
     "data": {
      "text/html": [
       "<div>\n",
       "<style scoped>\n",
       "    .dataframe tbody tr th:only-of-type {\n",
       "        vertical-align: middle;\n",
       "    }\n",
       "\n",
       "    .dataframe tbody tr th {\n",
       "        vertical-align: top;\n",
       "    }\n",
       "\n",
       "    .dataframe thead th {\n",
       "        text-align: right;\n",
       "    }\n",
       "</style>\n",
       "<table border=\"1\" class=\"dataframe\">\n",
       "  <thead>\n",
       "    <tr style=\"text-align: right;\">\n",
       "      <th></th>\n",
       "      <th>BABA</th>\n",
       "      <th>TENCENT</th>\n",
       "    </tr>\n",
       "  </thead>\n",
       "  <tbody>\n",
       "    <tr>\n",
       "      <th>2016-01-01 00:00:00</th>\n",
       "      <td>147</td>\n",
       "      <td>30</td>\n",
       "    </tr>\n",
       "    <tr>\n",
       "      <th>2016-01-01 01:00:00</th>\n",
       "      <td>121</td>\n",
       "      <td>35</td>\n",
       "    </tr>\n",
       "    <tr>\n",
       "      <th>2016-01-01 02:00:00</th>\n",
       "      <td>109</td>\n",
       "      <td>40</td>\n",
       "    </tr>\n",
       "    <tr>\n",
       "      <th>2016-01-01 03:00:00</th>\n",
       "      <td>84</td>\n",
       "      <td>31</td>\n",
       "    </tr>\n",
       "    <tr>\n",
       "      <th>2016-01-01 04:00:00</th>\n",
       "      <td>138</td>\n",
       "      <td>44</td>\n",
       "    </tr>\n",
       "  </tbody>\n",
       "</table>\n",
       "</div>"
      ],
      "text/plain": [
       "                     BABA  TENCENT\n",
       "2016-01-01 00:00:00   147       30\n",
       "2016-01-01 01:00:00   121       35\n",
       "2016-01-01 02:00:00   109       40\n",
       "2016-01-01 03:00:00    84       31\n",
       "2016-01-01 04:00:00   138       44"
      ]
     },
     "execution_count": 23,
     "metadata": {},
     "output_type": "execute_result"
    }
   ],
   "source": [
    "stock_df.head()"
   ]
  },
  {
   "cell_type": "code",
   "execution_count": 27,
   "metadata": {},
   "outputs": [
    {
     "data": {
      "text/plain": [
       "<matplotlib.axes._subplots.AxesSubplot at 0x1daaa3b31d0>"
      ]
     },
     "execution_count": 27,
     "metadata": {},
     "output_type": "execute_result"
    },
    {
     "data": {
      "image/png": "[encoded data removed]",
      "text/plain": [
       "<Figure size 432x288 with 1 Axes>"
      ]
     },
     "metadata": {
      "needs_background": "light"
     },
     "output_type": "display_data"
    }
   ],
   "source": [
    "stock_df.plot()"
   ]
  },
  {
   "cell_type": "code",
   "execution_count": 28,
   "metadata": {},
   "outputs": [],
   "source": [
    "import matplotlib.pyplot as plt\n",
    "plt.show()"
   ]
  },
  {
   "cell_type": "code",
   "execution_count": 29,
   "metadata": {},
   "outputs": [],
   "source": [
    "weekly_df = DataFrame()"
   ]
  },
  {
   "cell_type": "code",
   "execution_count": 31,
   "metadata": {},
   "outputs": [],
   "source": [
    "weekly_df['BABA'] = stock_df['BABA'].resample('W').mean()"
   ]
  },
  {
   "cell_type": "code",
   "execution_count": 32,
   "metadata": {},
   "outputs": [],
   "source": [
    "weekly_df['TENCENT'] = stock_df['TENCENT'].resample('W').mean()"
   ]
  },
  {
   "cell_type": "code",
   "execution_count": 33,
   "metadata": {},
   "outputs": [
    {
     "data": {
      "text/html": [
       "<div>\n",
       "<style scoped>\n",
       "    .dataframe tbody tr th:only-of-type {\n",
       "        vertical-align: middle;\n",
       "    }\n",
       "\n",
       "    .dataframe tbody tr th {\n",
       "        vertical-align: top;\n",
       "    }\n",
       "\n",
       "    .dataframe thead th {\n",
       "        text-align: right;\n",
       "    }\n",
       "</style>\n",
       "<table border=\"1\" class=\"dataframe\">\n",
       "  <thead>\n",
       "    <tr style=\"text-align: right;\">\n",
       "      <th></th>\n",
       "      <th>BABA</th>\n",
       "      <th>TENCENT</th>\n",
       "    </tr>\n",
       "  </thead>\n",
       "  <tbody>\n",
       "    <tr>\n",
       "      <th>2016-01-03</th>\n",
       "      <td>116.930556</td>\n",
       "      <td>38.527778</td>\n",
       "    </tr>\n",
       "    <tr>\n",
       "      <th>2016-01-10</th>\n",
       "      <td>122.886905</td>\n",
       "      <td>39.375000</td>\n",
       "    </tr>\n",
       "    <tr>\n",
       "      <th>2016-01-17</th>\n",
       "      <td>119.053571</td>\n",
       "      <td>39.375000</td>\n",
       "    </tr>\n",
       "    <tr>\n",
       "      <th>2016-01-24</th>\n",
       "      <td>117.684524</td>\n",
       "      <td>39.357143</td>\n",
       "    </tr>\n",
       "    <tr>\n",
       "      <th>2016-01-31</th>\n",
       "      <td>119.678571</td>\n",
       "      <td>40.190476</td>\n",
       "    </tr>\n",
       "  </tbody>\n",
       "</table>\n",
       "</div>"
      ],
      "text/plain": [
       "                  BABA    TENCENT\n",
       "2016-01-03  116.930556  38.527778\n",
       "2016-01-10  122.886905  39.375000\n",
       "2016-01-17  119.053571  39.375000\n",
       "2016-01-24  117.684524  39.357143\n",
       "2016-01-31  119.678571  40.190476"
      ]
     },
     "execution_count": 33,
     "metadata": {},
     "output_type": "execute_result"
    }
   ],
   "source": [
    "weekly_df.head()"
   ]
  },
  {
   "cell_type": "code",
   "execution_count": 34,
   "metadata": {
    "scrolled": true
   },
   "outputs": [
    {
     "data": {
      "text/plain": [
       "<matplotlib.axes._subplots.AxesSubplot at 0x1daad0bee48>"
      ]
     },
     "execution_count": 34,
     "metadata": {},
     "output_type": "execute_result"
    },
    {
     "data": {
      "image/png": "[encoded data removed]",
      "text/plain": [
       "<Figure size 432x288 with 1 Axes>"
      ]
     },
     "metadata": {
      "needs_background": "light"
     },
     "output_type": "display_data"
    }
   ],
   "source": [
    "weekly_df.plot()"
   ]
  },
  {
   "cell_type": "code",
   "execution_count": 35,
   "metadata": {},
   "outputs": [],
   "source": [
    "plt.show()"
   ]
  },
  {
   "cell_type": "code",
   "execution_count": null,
   "metadata": {},
   "outputs": [],
   "source": []
  }
 ],
 "metadata": {
  "kernelspec": {
   "display_name": "Python 3",
   "language": "python",
   "name": "python3"
  },
  "language_info": {
   "codemirror_mode": {
    "name": "ipython",
    "version": 3
   },
   "file_extension": ".py",
   "mimetype": "text/x-python",
   "name": "python",
   "nbconvert_exporter": "python",
   "pygments_lexer": "ipython3",
   "version": "3.7.3"
  }
 },
 "nbformat": 4,
 "nbformat_minor": 2
}
