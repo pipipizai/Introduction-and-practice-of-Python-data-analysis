{
 "cells": [
  {
   "cell_type": "code",
   "execution_count": 4,
   "metadata": {},
   "outputs": [],
   "source": [
    "import numpy as np\n",
    "import pandas as pd\n",
    "import matplotlib.pyplot as plt\n",
    "from pandas import Series, DataFrame"
   ]
  },
  {
   "cell_type": "markdown",
   "metadata": {},
   "source": [
    "# 直方图"
   ]
  },
  {
   "cell_type": "code",
   "execution_count": 5,
   "metadata": {},
   "outputs": [],
   "source": [
    "s = Series(np.random.randn(1000))"
   ]
  },
  {
   "cell_type": "code",
   "execution_count": 6,
   "metadata": {},
   "outputs": [
    {
     "data": {
      "text/plain": [
       "(array([ 10.,  22.,  88., 138., 235., 230., 166.,  82.,  24.,   5.]),\n",
       " array([-3.04070499e+00, -2.43249004e+00, -1.82427510e+00, -1.21606016e+00,\n",
       "        -6.07845216e-01,  3.69726370e-04,  6.08584669e-01,  1.21679961e+00,\n",
       "         1.82501455e+00,  2.43322950e+00,  3.04144444e+00]),\n",
       " <a list of 10 Patch objects>)"
      ]
     },
     "execution_count": 6,
     "metadata": {},
     "output_type": "execute_result"
    },
    {
     "data": {
      "image/png": "[encoded data removed]",
      "text/plain": [
       "<Figure size 432x288 with 1 Axes>"
      ]
     },
     "metadata": {
      "needs_background": "light"
     },
     "output_type": "display_data"
    }
   ],
   "source": [
    "plt.hist(s)"
   ]
  },
  {
   "cell_type": "code",
   "execution_count": 7,
   "metadata": {},
   "outputs": [
    {
     "data": {
      "text/plain": [
       "(array([ 10.,  22.,  88., 138., 235., 230., 166.,  82.,  24.,   5.]),\n",
       " array([-3.04070499e+00, -2.43249004e+00, -1.82427510e+00, -1.21606016e+00,\n",
       "        -6.07845216e-01,  3.69726370e-04,  6.08584669e-01,  1.21679961e+00,\n",
       "         1.82501455e+00,  2.43322950e+00,  3.04144444e+00]),\n",
       " <a list of 10 Patch objects>)"
      ]
     },
     "execution_count": 7,
     "metadata": {},
     "output_type": "execute_result"
    },
    {
     "data": {
      "image/png": "[encoded data removed]",
      "text/plain": [
       "<Figure size 432x288 with 1 Axes>"
      ]
     },
     "metadata": {
      "needs_background": "light"
     },
     "output_type": "display_data"
    }
   ],
   "source": [
    "plt.hist(s, rwidth=0.9)"
   ]
  },
  {
   "cell_type": "code",
   "execution_count": 9,
   "metadata": {},
   "outputs": [],
   "source": [
    "a = np.arange(10)"
   ]
  },
  {
   "cell_type": "code",
   "execution_count": 10,
   "metadata": {},
   "outputs": [
    {
     "data": {
      "text/plain": [
       "array([0, 1, 2, 3, 4, 5, 6, 7, 8, 9])"
      ]
     },
     "execution_count": 10,
     "metadata": {},
     "output_type": "execute_result"
    }
   ],
   "source": [
    "a"
   ]
  },
  {
   "cell_type": "code",
   "execution_count": 11,
   "metadata": {},
   "outputs": [
    {
     "data": {
      "text/plain": [
       "(array([1., 1., 1., 1., 1., 1., 1., 1., 1., 1.]),\n",
       " array([0. , 0.9, 1.8, 2.7, 3.6, 4.5, 5.4, 6.3, 7.2, 8.1, 9. ]),\n",
       " <a list of 10 Patch objects>)"
      ]
     },
     "execution_count": 11,
     "metadata": {},
     "output_type": "execute_result"
    },
    {
     "data": {
      "image/png": "[encoded data removed]",
      "text/plain": [
       "<Figure size 432x288 with 1 Axes>"
      ]
     },
     "metadata": {
      "needs_background": "light"
     },
     "output_type": "display_data"
    }
   ],
   "source": [
    "plt.hist(a,rwidth=0.9)"
   ]
  },
  {
   "cell_type": "code",
   "execution_count": 12,
   "metadata": {},
   "outputs": [
    {
     "data": {
      "text/plain": [
       "0      1.382161\n",
       "1      0.918931\n",
       "2     -0.366411\n",
       "3     -0.454530\n",
       "4     -0.350691\n",
       "5     -1.502238\n",
       "6      0.017167\n",
       "7     -1.924145\n",
       "8      0.406229\n",
       "9      1.039195\n",
       "10     0.714563\n",
       "11     0.803791\n",
       "12     0.263803\n",
       "13     0.026862\n",
       "14     0.764718\n",
       "15     0.861214\n",
       "16    -0.655063\n",
       "17    -0.461148\n",
       "18     0.328412\n",
       "19     0.877392\n",
       "20    -0.925935\n",
       "21     0.492842\n",
       "22     0.087613\n",
       "23    -0.817661\n",
       "24    -1.477709\n",
       "25     0.927688\n",
       "26     0.129804\n",
       "27     0.641506\n",
       "28    -1.038915\n",
       "29     0.229082\n",
       "         ...   \n",
       "970    0.850466\n",
       "971    1.595679\n",
       "972   -0.077148\n",
       "973   -0.060809\n",
       "974   -0.907707\n",
       "975    0.207627\n",
       "976   -0.843348\n",
       "977   -0.183018\n",
       "978    0.476579\n",
       "979   -0.130312\n",
       "980    0.232853\n",
       "981   -1.710328\n",
       "982    0.510935\n",
       "983    0.083371\n",
       "984   -1.232088\n",
       "985    0.250126\n",
       "986   -0.370134\n",
       "987    0.564476\n",
       "988   -0.579164\n",
       "989   -0.385341\n",
       "990    1.449690\n",
       "991   -0.870276\n",
       "992   -1.125872\n",
       "993    1.473420\n",
       "994    0.094879\n",
       "995   -0.180703\n",
       "996   -0.653756\n",
       "997    0.717650\n",
       "998   -0.195085\n",
       "999   -0.511486\n",
       "Length: 1000, dtype: float64"
      ]
     },
     "execution_count": 12,
     "metadata": {},
     "output_type": "execute_result"
    }
   ],
   "source": [
    "s"
   ]
  },
  {
   "cell_type": "code",
   "execution_count": 13,
   "metadata": {},
   "outputs": [
    {
     "data": {
      "image/png": "[encoded data removed]",
      "text/plain": [
       "<Figure size 432x288 with 1 Axes>"
      ]
     },
     "metadata": {
      "needs_background": "light"
     },
     "output_type": "display_data"
    }
   ],
   "source": [
    "re = plt.hist(s,rwidth=0.9)"
   ]
  },
  {
   "cell_type": "code",
   "execution_count": 14,
   "metadata": {},
   "outputs": [
    {
     "data": {
      "text/plain": [
       "(array([ 10.,  22.,  88., 138., 235., 230., 166.,  82.,  24.,   5.]),\n",
       " array([-3.04070499e+00, -2.43249004e+00, -1.82427510e+00, -1.21606016e+00,\n",
       "        -6.07845216e-01,  3.69726370e-04,  6.08584669e-01,  1.21679961e+00,\n",
       "         1.82501455e+00,  2.43322950e+00,  3.04144444e+00]),\n",
       " <a list of 10 Patch objects>)"
      ]
     },
     "execution_count": 14,
     "metadata": {},
     "output_type": "execute_result"
    }
   ],
   "source": [
    "re"
   ]
  },
  {
   "cell_type": "code",
   "execution_count": 15,
   "metadata": {},
   "outputs": [
    {
     "data": {
      "text/plain": [
       "tuple"
      ]
     },
     "execution_count": 15,
     "metadata": {},
     "output_type": "execute_result"
    }
   ],
   "source": [
    "type(re)"
   ]
  },
  {
   "cell_type": "code",
   "execution_count": 16,
   "metadata": {},
   "outputs": [
    {
     "data": {
      "text/plain": [
       "3"
      ]
     },
     "execution_count": 16,
     "metadata": {},
     "output_type": "execute_result"
    }
   ],
   "source": [
    "len(re)"
   ]
  },
  {
   "cell_type": "code",
   "execution_count": 17,
   "metadata": {},
   "outputs": [
    {
     "data": {
      "text/plain": [
       "array([ 10.,  22.,  88., 138., 235., 230., 166.,  82.,  24.,   5.])"
      ]
     },
     "execution_count": 17,
     "metadata": {},
     "output_type": "execute_result"
    }
   ],
   "source": [
    "re[0]"
   ]
  },
  {
   "cell_type": "code",
   "execution_count": 18,
   "metadata": {},
   "outputs": [
    {
     "data": {
      "text/plain": [
       "array([-3.04070499e+00, -2.43249004e+00, -1.82427510e+00, -1.21606016e+00,\n",
       "       -6.07845216e-01,  3.69726370e-04,  6.08584669e-01,  1.21679961e+00,\n",
       "        1.82501455e+00,  2.43322950e+00,  3.04144444e+00])"
      ]
     },
     "execution_count": 18,
     "metadata": {},
     "output_type": "execute_result"
    }
   ],
   "source": [
    "re[1]"
   ]
  },
  {
   "cell_type": "code",
   "execution_count": 19,
   "metadata": {},
   "outputs": [
    {
     "data": {
      "text/plain": [
       "<a list of 10 Patch objects>"
      ]
     },
     "execution_count": 19,
     "metadata": {},
     "output_type": "execute_result"
    }
   ],
   "source": [
    "re[2]"
   ]
  },
  {
   "cell_type": "code",
   "execution_count": 23,
   "metadata": {},
   "outputs": [
    {
     "data": {
      "text/plain": [
       "(array([ 10.,  22.,  88., 138., 235., 230., 166.,  82.,  24.,   5.]),\n",
       " array([-3.04070499e+00, -2.43249004e+00, -1.82427510e+00, -1.21606016e+00,\n",
       "        -6.07845216e-01,  3.69726370e-04,  6.08584669e-01,  1.21679961e+00,\n",
       "         1.82501455e+00,  2.43322950e+00,  3.04144444e+00]),\n",
       " <a list of 10 Patch objects>)"
      ]
     },
     "execution_count": 23,
     "metadata": {},
     "output_type": "execute_result"
    },
    {
     "data": {
      "image/png": "[encoded data removed]",
      "text/plain": [
       "<Figure size 432x288 with 1 Axes>"
      ]
     },
     "metadata": {
      "needs_background": "light"
     },
     "output_type": "display_data"
    }
   ],
   "source": [
    "plt.hist(s,rwidth=0.9)"
   ]
  },
  {
   "cell_type": "code",
   "execution_count": 24,
   "metadata": {},
   "outputs": [
    {
     "data": {
      "text/plain": [
       "(array([  3.,   7.,   9.,  13.,  33.,  55.,  62.,  76., 103., 132., 113.,\n",
       "        117.,  90.,  76.,  49.,  33.,  18.,   6.,   1.,   4.]),\n",
       " array([-3.04070499e+00, -2.73659752e+00, -2.43249004e+00, -2.12838257e+00,\n",
       "        -1.82427510e+00, -1.52016763e+00, -1.21606016e+00, -9.11952688e-01,\n",
       "        -6.07845216e-01, -3.03737745e-01,  3.69726370e-04,  3.04477198e-01,\n",
       "         6.08584669e-01,  9.12692140e-01,  1.21679961e+00,  1.52090708e+00,\n",
       "         1.82501455e+00,  2.12912203e+00,  2.43322950e+00,  2.73733697e+00,\n",
       "         3.04144444e+00]),\n",
       " <a list of 20 Patch objects>)"
      ]
     },
     "execution_count": 24,
     "metadata": {},
     "output_type": "execute_result"
    },
    {
     "data": {
      "image/png": "[encoded data removed]",
      "text/plain": [
       "<Figure size 432x288 with 1 Axes>"
      ]
     },
     "metadata": {
      "needs_background": "light"
     },
     "output_type": "display_data"
    }
   ],
   "source": [
    "plt.hist(s,rwidth=0.9,bins=20)"
   ]
  },
  {
   "cell_type": "code",
   "execution_count": 25,
   "metadata": {},
   "outputs": [
    {
     "data": {
      "text/plain": [
       "(array([ 1.,  0.,  0.,  0.,  0.,  0.,  1.,  0.,  1.,  0.,  0.,  1.,  0.,\n",
       "         1.,  0.,  2.,  1.,  0.,  0.,  2.,  0.,  2.,  1.,  0.,  1.,  1.,\n",
       "         0.,  2.,  2.,  0.,  1.,  1.,  1.,  1.,  1.,  3.,  2.,  1.,  1.,\n",
       "         1.,  3.,  6.,  1.,  6.,  3.,  2.,  0.,  4.,  3.,  5., 10.,  6.,\n",
       "         7.,  1.,  2.,  3.,  3.,  3., 10., 10.,  5.,  8.,  8.,  7.,  6.,\n",
       "         5.,  5., 10.,  2.,  6., 12.,  9., 10.,  8.,  5.,  5.,  7.,  7.,\n",
       "        10.,  3., 15., 10.,  5., 14.,  9., 13.,  8., 14.,  9.,  6., 16.,\n",
       "         6., 16., 21., 10., 12.,  9., 10., 13., 19., 14.,  9., 10., 15.,\n",
       "        10., 10.,  7., 13., 19.,  6., 18.,  9., 14.,  9., 13.,  7.,  9.,\n",
       "        14.,  9., 15., 14.,  8., 10.,  9., 11., 10.,  8.,  9.,  9.,  2.,\n",
       "        10.,  7.,  7., 13.,  5.,  6.,  3.,  8.,  6., 11.,  8.,  3., 10.,\n",
       "         5.,  3.,  5.,  1.,  5.,  4.,  5.,  3.,  4.,  7.,  5.,  3.,  4.,\n",
       "         3.,  1.,  0.,  3.,  2.,  1.,  1.,  3.,  1.,  2.,  1.,  1.,  2.,\n",
       "         4.,  1.,  0.,  1.,  1.,  0.,  1.,  0.,  1.,  1.,  0.,  0.,  0.,\n",
       "         0.,  0.,  0.,  0.,  1.,  0.,  0.,  0.,  0.,  0.,  0.,  1.,  0.,\n",
       "         0.,  0.,  1.,  0.,  2.]),\n",
       " array([-3.04070499e+00, -3.01029424e+00, -2.97988349e+00, -2.94947275e+00,\n",
       "        -2.91906200e+00, -2.88865125e+00, -2.85824050e+00, -2.82782976e+00,\n",
       "        -2.79741901e+00, -2.76700826e+00, -2.73659752e+00, -2.70618677e+00,\n",
       "        -2.67577602e+00, -2.64536527e+00, -2.61495453e+00, -2.58454378e+00,\n",
       "        -2.55413303e+00, -2.52372229e+00, -2.49331154e+00, -2.46290079e+00,\n",
       "        -2.43249004e+00, -2.40207930e+00, -2.37166855e+00, -2.34125780e+00,\n",
       "        -2.31084706e+00, -2.28043631e+00, -2.25002556e+00, -2.21961481e+00,\n",
       "        -2.18920407e+00, -2.15879332e+00, -2.12838257e+00, -2.09797183e+00,\n",
       "        -2.06756108e+00, -2.03715033e+00, -2.00673958e+00, -1.97632884e+00,\n",
       "        -1.94591809e+00, -1.91550734e+00, -1.88509660e+00, -1.85468585e+00,\n",
       "        -1.82427510e+00, -1.79386435e+00, -1.76345361e+00, -1.73304286e+00,\n",
       "        -1.70263211e+00, -1.67222137e+00, -1.64181062e+00, -1.61139987e+00,\n",
       "        -1.58098912e+00, -1.55057838e+00, -1.52016763e+00, -1.48975688e+00,\n",
       "        -1.45934614e+00, -1.42893539e+00, -1.39852464e+00, -1.36811389e+00,\n",
       "        -1.33770315e+00, -1.30729240e+00, -1.27688165e+00, -1.24647091e+00,\n",
       "        -1.21606016e+00, -1.18564941e+00, -1.15523866e+00, -1.12482792e+00,\n",
       "        -1.09441717e+00, -1.06400642e+00, -1.03359568e+00, -1.00318493e+00,\n",
       "        -9.72774182e-01, -9.42363435e-01, -9.11952688e-01, -8.81541940e-01,\n",
       "        -8.51131193e-01, -8.20720446e-01, -7.90309699e-01, -7.59898952e-01,\n",
       "        -7.29488205e-01, -6.99077458e-01, -6.68666711e-01, -6.38255963e-01,\n",
       "        -6.07845216e-01, -5.77434469e-01, -5.47023722e-01, -5.16612975e-01,\n",
       "        -4.86202228e-01, -4.55791481e-01, -4.25380733e-01, -3.94969986e-01,\n",
       "        -3.64559239e-01, -3.34148492e-01, -3.03737745e-01, -2.73326998e-01,\n",
       "        -2.42916251e-01, -2.12505504e-01, -1.82094756e-01, -1.51684009e-01,\n",
       "        -1.21273262e-01, -9.08625150e-02, -6.04517679e-02, -3.00410208e-02,\n",
       "         3.69726370e-04,  3.07804735e-02,  6.11912206e-02,  9.16019678e-02,\n",
       "         1.22012715e-01,  1.52423462e-01,  1.82834209e-01,  2.13244956e-01,\n",
       "         2.43655703e-01,  2.74066451e-01,  3.04477198e-01,  3.34887945e-01,\n",
       "         3.65298692e-01,  3.95709439e-01,  4.26120186e-01,  4.56530933e-01,\n",
       "         4.86941680e-01,  5.17352428e-01,  5.47763175e-01,  5.78173922e-01,\n",
       "         6.08584669e-01,  6.38995416e-01,  6.69406163e-01,  6.99816910e-01,\n",
       "         7.30227658e-01,  7.60638405e-01,  7.91049152e-01,  8.21459899e-01,\n",
       "         8.51870646e-01,  8.82281393e-01,  9.12692140e-01,  9.43102887e-01,\n",
       "         9.73513635e-01,  1.00392438e+00,  1.03433513e+00,  1.06474588e+00,\n",
       "         1.09515662e+00,  1.12556737e+00,  1.15597812e+00,  1.18638886e+00,\n",
       "         1.21679961e+00,  1.24721036e+00,  1.27762111e+00,  1.30803185e+00,\n",
       "         1.33844260e+00,  1.36885335e+00,  1.39926409e+00,  1.42967484e+00,\n",
       "         1.46008559e+00,  1.49049634e+00,  1.52090708e+00,  1.55131783e+00,\n",
       "         1.58172858e+00,  1.61213932e+00,  1.64255007e+00,  1.67296082e+00,\n",
       "         1.70337157e+00,  1.73378231e+00,  1.76419306e+00,  1.79460381e+00,\n",
       "         1.82501455e+00,  1.85542530e+00,  1.88583605e+00,  1.91624680e+00,\n",
       "         1.94665754e+00,  1.97706829e+00,  2.00747904e+00,  2.03788978e+00,\n",
       "         2.06830053e+00,  2.09871128e+00,  2.12912203e+00,  2.15953277e+00,\n",
       "         2.18994352e+00,  2.22035427e+00,  2.25076501e+00,  2.28117576e+00,\n",
       "         2.31158651e+00,  2.34199726e+00,  2.37240800e+00,  2.40281875e+00,\n",
       "         2.43322950e+00,  2.46364024e+00,  2.49405099e+00,  2.52446174e+00,\n",
       "         2.55487249e+00,  2.58528323e+00,  2.61569398e+00,  2.64610473e+00,\n",
       "         2.67651547e+00,  2.70692622e+00,  2.73733697e+00,  2.76774772e+00,\n",
       "         2.79815846e+00,  2.82856921e+00,  2.85897996e+00,  2.88939070e+00,\n",
       "         2.91980145e+00,  2.95021220e+00,  2.98062295e+00,  3.01103369e+00,\n",
       "         3.04144444e+00]),\n",
       " <a list of 200 Patch objects>)"
      ]
     },
     "execution_count": 25,
     "metadata": {},
     "output_type": "execute_result"
    },
    {
     "data": {
      "image/png": "[encoded data removed]",
      "text/plain": [
       "<Figure size 432x288 with 1 Axes>"
      ]
     },
     "metadata": {
      "needs_background": "light"
     },
     "output_type": "display_data"
    }
   ],
   "source": [
    "plt.hist(s,rwidth=0.9,bins=200)"
   ]
  },
  {
   "cell_type": "code",
   "execution_count": 26,
   "metadata": {},
   "outputs": [
    {
     "data": {
      "text/plain": [
       "(array([ 1.,  0.,  0.,  0.,  0.,  0.,  1.,  0.,  1.,  0.,  0.,  1.,  0.,\n",
       "         1.,  0.,  2.,  1.,  0.,  0.,  2.,  0.,  2.,  1.,  0.,  1.,  1.,\n",
       "         0.,  2.,  2.,  0.,  1.,  1.,  1.,  1.,  1.,  3.,  2.,  1.,  1.,\n",
       "         1.,  3.,  6.,  1.,  6.,  3.,  2.,  0.,  4.,  3.,  5., 10.,  6.,\n",
       "         7.,  1.,  2.,  3.,  3.,  3., 10., 10.,  5.,  8.,  8.,  7.,  6.,\n",
       "         5.,  5., 10.,  2.,  6., 12.,  9., 10.,  8.,  5.,  5.,  7.,  7.,\n",
       "        10.,  3., 15., 10.,  5., 14.,  9., 13.,  8., 14.,  9.,  6., 16.,\n",
       "         6., 16., 21., 10., 12.,  9., 10., 13., 19., 14.,  9., 10., 15.,\n",
       "        10., 10.,  7., 13., 19.,  6., 18.,  9., 14.,  9., 13.,  7.,  9.,\n",
       "        14.,  9., 15., 14.,  8., 10.,  9., 11., 10.,  8.,  9.,  9.,  2.,\n",
       "        10.,  7.,  7., 13.,  5.,  6.,  3.,  8.,  6., 11.,  8.,  3., 10.,\n",
       "         5.,  3.,  5.,  1.,  5.,  4.,  5.,  3.,  4.,  7.,  5.,  3.,  4.,\n",
       "         3.,  1.,  0.,  3.,  2.,  1.,  1.,  3.,  1.,  2.,  1.,  1.,  2.,\n",
       "         4.,  1.,  0.,  1.,  1.,  0.,  1.,  0.,  1.,  1.,  0.,  0.,  0.,\n",
       "         0.,  0.,  0.,  0.,  1.,  0.,  0.,  0.,  0.,  0.,  0.,  1.,  0.,\n",
       "         0.,  0.,  1.,  0.,  2.]),\n",
       " array([-3.04070499e+00, -3.01029424e+00, -2.97988349e+00, -2.94947275e+00,\n",
       "        -2.91906200e+00, -2.88865125e+00, -2.85824050e+00, -2.82782976e+00,\n",
       "        -2.79741901e+00, -2.76700826e+00, -2.73659752e+00, -2.70618677e+00,\n",
       "        -2.67577602e+00, -2.64536527e+00, -2.61495453e+00, -2.58454378e+00,\n",
       "        -2.55413303e+00, -2.52372229e+00, -2.49331154e+00, -2.46290079e+00,\n",
       "        -2.43249004e+00, -2.40207930e+00, -2.37166855e+00, -2.34125780e+00,\n",
       "        -2.31084706e+00, -2.28043631e+00, -2.25002556e+00, -2.21961481e+00,\n",
       "        -2.18920407e+00, -2.15879332e+00, -2.12838257e+00, -2.09797183e+00,\n",
       "        -2.06756108e+00, -2.03715033e+00, -2.00673958e+00, -1.97632884e+00,\n",
       "        -1.94591809e+00, -1.91550734e+00, -1.88509660e+00, -1.85468585e+00,\n",
       "        -1.82427510e+00, -1.79386435e+00, -1.76345361e+00, -1.73304286e+00,\n",
       "        -1.70263211e+00, -1.67222137e+00, -1.64181062e+00, -1.61139987e+00,\n",
       "        -1.58098912e+00, -1.55057838e+00, -1.52016763e+00, -1.48975688e+00,\n",
       "        -1.45934614e+00, -1.42893539e+00, -1.39852464e+00, -1.36811389e+00,\n",
       "        -1.33770315e+00, -1.30729240e+00, -1.27688165e+00, -1.24647091e+00,\n",
       "        -1.21606016e+00, -1.18564941e+00, -1.15523866e+00, -1.12482792e+00,\n",
       "        -1.09441717e+00, -1.06400642e+00, -1.03359568e+00, -1.00318493e+00,\n",
       "        -9.72774182e-01, -9.42363435e-01, -9.11952688e-01, -8.81541940e-01,\n",
       "        -8.51131193e-01, -8.20720446e-01, -7.90309699e-01, -7.59898952e-01,\n",
       "        -7.29488205e-01, -6.99077458e-01, -6.68666711e-01, -6.38255963e-01,\n",
       "        -6.07845216e-01, -5.77434469e-01, -5.47023722e-01, -5.16612975e-01,\n",
       "        -4.86202228e-01, -4.55791481e-01, -4.25380733e-01, -3.94969986e-01,\n",
       "        -3.64559239e-01, -3.34148492e-01, -3.03737745e-01, -2.73326998e-01,\n",
       "        -2.42916251e-01, -2.12505504e-01, -1.82094756e-01, -1.51684009e-01,\n",
       "        -1.21273262e-01, -9.08625150e-02, -6.04517679e-02, -3.00410208e-02,\n",
       "         3.69726370e-04,  3.07804735e-02,  6.11912206e-02,  9.16019678e-02,\n",
       "         1.22012715e-01,  1.52423462e-01,  1.82834209e-01,  2.13244956e-01,\n",
       "         2.43655703e-01,  2.74066451e-01,  3.04477198e-01,  3.34887945e-01,\n",
       "         3.65298692e-01,  3.95709439e-01,  4.26120186e-01,  4.56530933e-01,\n",
       "         4.86941680e-01,  5.17352428e-01,  5.47763175e-01,  5.78173922e-01,\n",
       "         6.08584669e-01,  6.38995416e-01,  6.69406163e-01,  6.99816910e-01,\n",
       "         7.30227658e-01,  7.60638405e-01,  7.91049152e-01,  8.21459899e-01,\n",
       "         8.51870646e-01,  8.82281393e-01,  9.12692140e-01,  9.43102887e-01,\n",
       "         9.73513635e-01,  1.00392438e+00,  1.03433513e+00,  1.06474588e+00,\n",
       "         1.09515662e+00,  1.12556737e+00,  1.15597812e+00,  1.18638886e+00,\n",
       "         1.21679961e+00,  1.24721036e+00,  1.27762111e+00,  1.30803185e+00,\n",
       "         1.33844260e+00,  1.36885335e+00,  1.39926409e+00,  1.42967484e+00,\n",
       "         1.46008559e+00,  1.49049634e+00,  1.52090708e+00,  1.55131783e+00,\n",
       "         1.58172858e+00,  1.61213932e+00,  1.64255007e+00,  1.67296082e+00,\n",
       "         1.70337157e+00,  1.73378231e+00,  1.76419306e+00,  1.79460381e+00,\n",
       "         1.82501455e+00,  1.85542530e+00,  1.88583605e+00,  1.91624680e+00,\n",
       "         1.94665754e+00,  1.97706829e+00,  2.00747904e+00,  2.03788978e+00,\n",
       "         2.06830053e+00,  2.09871128e+00,  2.12912203e+00,  2.15953277e+00,\n",
       "         2.18994352e+00,  2.22035427e+00,  2.25076501e+00,  2.28117576e+00,\n",
       "         2.31158651e+00,  2.34199726e+00,  2.37240800e+00,  2.40281875e+00,\n",
       "         2.43322950e+00,  2.46364024e+00,  2.49405099e+00,  2.52446174e+00,\n",
       "         2.55487249e+00,  2.58528323e+00,  2.61569398e+00,  2.64610473e+00,\n",
       "         2.67651547e+00,  2.70692622e+00,  2.73733697e+00,  2.76774772e+00,\n",
       "         2.79815846e+00,  2.82856921e+00,  2.85897996e+00,  2.88939070e+00,\n",
       "         2.91980145e+00,  2.95021220e+00,  2.98062295e+00,  3.01103369e+00,\n",
       "         3.04144444e+00]),\n",
       " <a list of 200 Patch objects>)"
      ]
     },
     "execution_count": 26,
     "metadata": {},
     "output_type": "execute_result"
    },
    {
     "data": {
      "image/png": "[encoded data removed]",
      "text/plain": [
       "<Figure size 432x288 with 1 Axes>"
      ]
     },
     "metadata": {
      "needs_background": "light"
     },
     "output_type": "display_data"
    }
   ],
   "source": [
    "plt.hist(s,rwidth=0.9,bins=200,color='r')"
   ]
  },
  {
   "cell_type": "markdown",
   "metadata": {},
   "source": [
    "# 密度图"
   ]
  },
  {
   "cell_type": "code",
   "execution_count": 27,
   "metadata": {},
   "outputs": [
    {
     "data": {
      "text/plain": [
       "0      1.382161\n",
       "1      0.918931\n",
       "2     -0.366411\n",
       "3     -0.454530\n",
       "4     -0.350691\n",
       "5     -1.502238\n",
       "6      0.017167\n",
       "7     -1.924145\n",
       "8      0.406229\n",
       "9      1.039195\n",
       "10     0.714563\n",
       "11     0.803791\n",
       "12     0.263803\n",
       "13     0.026862\n",
       "14     0.764718\n",
       "15     0.861214\n",
       "16    -0.655063\n",
       "17    -0.461148\n",
       "18     0.328412\n",
       "19     0.877392\n",
       "20    -0.925935\n",
       "21     0.492842\n",
       "22     0.087613\n",
       "23    -0.817661\n",
       "24    -1.477709\n",
       "25     0.927688\n",
       "26     0.129804\n",
       "27     0.641506\n",
       "28    -1.038915\n",
       "29     0.229082\n",
       "         ...   \n",
       "970    0.850466\n",
       "971    1.595679\n",
       "972   -0.077148\n",
       "973   -0.060809\n",
       "974   -0.907707\n",
       "975    0.207627\n",
       "976   -0.843348\n",
       "977   -0.183018\n",
       "978    0.476579\n",
       "979   -0.130312\n",
       "980    0.232853\n",
       "981   -1.710328\n",
       "982    0.510935\n",
       "983    0.083371\n",
       "984   -1.232088\n",
       "985    0.250126\n",
       "986   -0.370134\n",
       "987    0.564476\n",
       "988   -0.579164\n",
       "989   -0.385341\n",
       "990    1.449690\n",
       "991   -0.870276\n",
       "992   -1.125872\n",
       "993    1.473420\n",
       "994    0.094879\n",
       "995   -0.180703\n",
       "996   -0.653756\n",
       "997    0.717650\n",
       "998   -0.195085\n",
       "999   -0.511486\n",
       "Length: 1000, dtype: float64"
      ]
     },
     "execution_count": 27,
     "metadata": {},
     "output_type": "execute_result"
    }
   ],
   "source": [
    "s"
   ]
  },
  {
   "cell_type": "code",
   "execution_count": 28,
   "metadata": {},
   "outputs": [
    {
     "data": {
      "text/plain": [
       "<matplotlib.axes._subplots.AxesSubplot at 0x2574dc9bda0>"
      ]
     },
     "execution_count": 28,
     "metadata": {},
     "output_type": "execute_result"
    },
    {
     "data": {
      "image/png": "[encoded data removed]",
      "text/plain": [
       "<Figure size 432x288 with 1 Axes>"
      ]
     },
     "metadata": {
      "needs_background": "light"
     },
     "output_type": "display_data"
    }
   ],
   "source": [
    "s.plot()"
   ]
  },
  {
   "cell_type": "code",
   "execution_count": 30,
   "metadata": {},
   "outputs": [
    {
     "data": {
      "text/plain": [
       "<matplotlib.axes._subplots.AxesSubplot at 0x2574dde1f98>"
      ]
     },
     "execution_count": 30,
     "metadata": {},
     "output_type": "execute_result"
    },
    {
     "data": {
      "image/png": "[encoded data removed]",
      "text/plain": [
       "<Figure size 432x288 with 1 Axes>"
      ]
     },
     "metadata": {
      "needs_background": "light"
     },
     "output_type": "display_data"
    }
   ],
   "source": [
    "s.plot(kind='kde')"
   ]
  },
  {
   "cell_type": "code",
   "execution_count": null,
   "metadata": {},
   "outputs": [],
   "source": []
  }
 ],
 "metadata": {
  "kernelspec": {
   "display_name": "Python 3",
   "language": "python",
   "name": "python3"
  },
  "language_info": {
   "codemirror_mode": {
    "name": "ipython",
    "version": 3
   },
   "file_extension": ".py",
   "mimetype": "text/x-python",
   "name": "python",
   "nbconvert_exporter": "python",
   "pygments_lexer": "ipython3",
   "version": "3.7.3"
  }
 },
 "nbformat": 4,
 "nbformat_minor": 2
}
